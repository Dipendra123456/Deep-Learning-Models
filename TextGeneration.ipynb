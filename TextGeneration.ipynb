{
  "nbformat": 4,
  "nbformat_minor": 0,
  "metadata": {
    "colab": {
      "provenance": [],
      "authorship_tag": "ABX9TyOQVa2TrKStQnCHFbpN6kIU",
      "include_colab_link": true
    },
    "kernelspec": {
      "name": "python3",
      "display_name": "Python 3"
    },
    "language_info": {
      "name": "python"
    }
  },
  "cells": [
    {
      "cell_type": "markdown",
      "metadata": {
        "id": "view-in-github",
        "colab_type": "text"
      },
      "source": [
        "<a href=\"https://colab.research.google.com/github/Anishya181/Deep_Learning_Models/blob/main/TextGeneration.ipynb\" target=\"_parent\"><img src=\"https://colab.research.google.com/assets/colab-badge.svg\" alt=\"Open In Colab\"/></a>"
      ]
    },
    {
      "cell_type": "code",
      "execution_count": null,
      "metadata": {
        "id": "daOE6KuPPi0f"
      },
      "outputs": [],
      "source": [
        "import tensorflow as tf\n",
        "\n",
        "import numpy as np\n",
        "import os\n",
        "import time"
      ]
    },
    {
      "cell_type": "code",
      "source": [
        "path_to_file = tf.keras.utils.get_file('shakespeare.txt', 'https://storage.googleapis.com/download.tensorflow.org/data/shakespeare.txt')"
      ],
      "metadata": {
        "colab": {
          "base_uri": "https://localhost:8080/"
        },
        "id": "HRdW9hLOPqQa",
        "outputId": "4396a28b-d286-4caa-aba5-b61ebd9edf3a"
      },
      "execution_count": null,
      "outputs": [
        {
          "output_type": "stream",
          "name": "stdout",
          "text": [
            "Downloading data from https://storage.googleapis.com/download.tensorflow.org/data/shakespeare.txt\n",
            "1115394/1115394 [==============================] - 0s 0us/step\n"
          ]
        }
      ]
    },
    {
      "cell_type": "code",
      "source": [
        "# Read, then decode for py2 compat.\n",
        "text = open(path_to_file, 'rb').read().decode(encoding='utf-8')\n",
        "# length of text is the number of characters in it\n",
        "print(f'Length of text: {len(text)} characters')"
      ],
      "metadata": {
        "colab": {
          "base_uri": "https://localhost:8080/"
        },
        "id": "rOc94EAJPsk_",
        "outputId": "ef78dc15-605e-4d07-f91b-a2d52d083b34"
      },
      "execution_count": null,
      "outputs": [
        {
          "output_type": "stream",
          "name": "stdout",
          "text": [
            "Length of text: 1115394 characters\n"
          ]
        }
      ]
    },
    {
      "cell_type": "code",
      "source": [
        "# Take a look at the first 250 characters in text\n",
        "print(text[:250])"
      ],
      "metadata": {
        "colab": {
          "base_uri": "https://localhost:8080/"
        },
        "id": "YtDwRImiPwbc",
        "outputId": "d7fb3277-7697-4621-cfff-e7f0655a160a"
      },
      "execution_count": null,
      "outputs": [
        {
          "output_type": "stream",
          "name": "stdout",
          "text": [
            "First Citizen:\n",
            "Before we proceed any further, hear me speak.\n",
            "\n",
            "All:\n",
            "Speak, speak.\n",
            "\n",
            "First Citizen:\n",
            "You are all resolved rather to die than to famish?\n",
            "\n",
            "All:\n",
            "Resolved. resolved.\n",
            "\n",
            "First Citizen:\n",
            "First, you know Caius Marcius is chief enemy to the people.\n",
            "\n"
          ]
        }
      ]
    },
    {
      "cell_type": "code",
      "source": [
        "# The unique characters in the file\n",
        "vocab = sorted(set(text))\n",
        "print(f'{len(vocab)} unique characters')"
      ],
      "metadata": {
        "colab": {
          "base_uri": "https://localhost:8080/"
        },
        "id": "D0PkM9oxPx0w",
        "outputId": "88317d34-e441-4022-99fa-e834137389b1"
      },
      "execution_count": null,
      "outputs": [
        {
          "output_type": "stream",
          "name": "stdout",
          "text": [
            "65 unique characters\n"
          ]
        }
      ]
    },
    {
      "cell_type": "code",
      "source": [
        "example_texts = ['abcdefg', 'xyz']\n",
        "\n",
        "chars = tf.strings.unicode_split(example_texts, input_encoding='UTF-8')\n",
        "chars"
      ],
      "metadata": {
        "colab": {
          "base_uri": "https://localhost:8080/"
        },
        "id": "0YMNaRxNPzhB",
        "outputId": "27bfb921-a7b0-4fa5-c059-ed3dfadc63b8"
      },
      "execution_count": null,
      "outputs": [
        {
          "output_type": "execute_result",
          "data": {
            "text/plain": [
              "<tf.RaggedTensor [[b'a', b'b', b'c', b'd', b'e', b'f', b'g'], [b'x', b'y', b'z']]>"
            ]
          },
          "metadata": {},
          "execution_count": 15
        }
      ]
    },
    {
      "cell_type": "code",
      "source": [
        "ids_from_chars = tf.keras.layers.StringLookup(\n",
        "    vocabulary=list(vocab), mask_token=None)"
      ],
      "metadata": {
        "id": "-jGShFzJP1BV"
      },
      "execution_count": null,
      "outputs": []
    },
    {
      "cell_type": "code",
      "source": [
        "ids = ids_from_chars(chars)\n",
        "ids"
      ],
      "metadata": {
        "colab": {
          "base_uri": "https://localhost:8080/"
        },
        "id": "rgOtImw6P24G",
        "outputId": "9f3d0f7e-11b6-4459-80a0-2869763487e3"
      },
      "execution_count": null,
      "outputs": [
        {
          "output_type": "execute_result",
          "data": {
            "text/plain": [
              "<tf.RaggedTensor [[40, 41, 42, 43, 44, 45, 46], [63, 64, 65]]>"
            ]
          },
          "metadata": {},
          "execution_count": 17
        }
      ]
    },
    {
      "cell_type": "code",
      "source": [
        "chars_from_ids = tf.keras.layers.StringLookup(\n",
        "    vocabulary=ids_from_chars.get_vocabulary(), invert=True, mask_token=None)"
      ],
      "metadata": {
        "id": "daKqcFSnP4L4"
      },
      "execution_count": null,
      "outputs": []
    },
    {
      "cell_type": "code",
      "source": [
        "chars = chars_from_ids(ids)\n",
        "chars"
      ],
      "metadata": {
        "colab": {
          "base_uri": "https://localhost:8080/"
        },
        "id": "yqtxyOWXP5nf",
        "outputId": "fcc3c261-248c-4d18-eafe-d121f240036d"
      },
      "execution_count": null,
      "outputs": [
        {
          "output_type": "execute_result",
          "data": {
            "text/plain": [
              "<tf.RaggedTensor [[b'a', b'b', b'c', b'd', b'e', b'f', b'g'], [b'x', b'y', b'z']]>"
            ]
          },
          "metadata": {},
          "execution_count": 19
        }
      ]
    },
    {
      "cell_type": "code",
      "source": [
        "tf.strings.reduce_join(chars, axis=-1).numpy()"
      ],
      "metadata": {
        "colab": {
          "base_uri": "https://localhost:8080/"
        },
        "id": "4I7SPMOhP6_w",
        "outputId": "e238421f-e546-454e-9d5d-c612903e9e59"
      },
      "execution_count": null,
      "outputs": [
        {
          "output_type": "execute_result",
          "data": {
            "text/plain": [
              "array([b'abcdefg', b'xyz'], dtype=object)"
            ]
          },
          "metadata": {},
          "execution_count": 20
        }
      ]
    },
    {
      "cell_type": "code",
      "source": [
        "def text_from_ids(ids):\n",
        "  return tf.strings.reduce_join(chars_from_ids(ids), axis=-1)"
      ],
      "metadata": {
        "id": "kaqp6w85P8mg"
      },
      "execution_count": null,
      "outputs": []
    },
    {
      "cell_type": "code",
      "source": [
        "all_ids = ids_from_chars(tf.strings.unicode_split(text, 'UTF-8'))\n",
        "all_ids"
      ],
      "metadata": {
        "colab": {
          "base_uri": "https://localhost:8080/"
        },
        "id": "eUael7FGP-Rf",
        "outputId": "98f2b21b-93c8-4578-9d0d-31a457335100"
      },
      "execution_count": null,
      "outputs": [
        {
          "output_type": "execute_result",
          "data": {
            "text/plain": [
              "<tf.Tensor: shape=(1115394,), dtype=int64, numpy=array([19, 48, 57, ..., 46,  9,  1])>"
            ]
          },
          "metadata": {},
          "execution_count": 22
        }
      ]
    },
    {
      "cell_type": "code",
      "source": [
        "ids_dataset = tf.data.Dataset.from_tensor_slices(all_ids)"
      ],
      "metadata": {
        "id": "0QCsf8vcQAKn"
      },
      "execution_count": null,
      "outputs": []
    },
    {
      "cell_type": "code",
      "source": [
        "for ids in ids_dataset.take(10):\n",
        "    print(chars_from_ids(ids).numpy().decode('utf-8'))"
      ],
      "metadata": {
        "colab": {
          "base_uri": "https://localhost:8080/"
        },
        "id": "JL4ufNugQBkG",
        "outputId": "b810abba-ba29-4b29-c4c8-34fd69a06ae4"
      },
      "execution_count": null,
      "outputs": [
        {
          "output_type": "stream",
          "name": "stdout",
          "text": [
            "F\n",
            "i\n",
            "r\n",
            "s\n",
            "t\n",
            " \n",
            "C\n",
            "i\n",
            "t\n",
            "i\n"
          ]
        }
      ]
    },
    {
      "cell_type": "code",
      "source": [
        "seq_length = 100"
      ],
      "metadata": {
        "id": "odOn_DEvQDA3"
      },
      "execution_count": null,
      "outputs": []
    },
    {
      "cell_type": "code",
      "source": [
        "sequences = ids_dataset.batch(seq_length+1, drop_remainder=True)\n",
        "\n",
        "for seq in sequences.take(1):\n",
        "  print(chars_from_ids(seq))"
      ],
      "metadata": {
        "colab": {
          "base_uri": "https://localhost:8080/"
        },
        "id": "ArDCYXitQERr",
        "outputId": "8eff6d87-0b90-47e8-b2e2-deb7764b8007"
      },
      "execution_count": null,
      "outputs": [
        {
          "output_type": "stream",
          "name": "stdout",
          "text": [
            "tf.Tensor(\n",
            "[b'F' b'i' b'r' b's' b't' b' ' b'C' b'i' b't' b'i' b'z' b'e' b'n' b':'\n",
            " b'\\n' b'B' b'e' b'f' b'o' b'r' b'e' b' ' b'w' b'e' b' ' b'p' b'r' b'o'\n",
            " b'c' b'e' b'e' b'd' b' ' b'a' b'n' b'y' b' ' b'f' b'u' b'r' b't' b'h'\n",
            " b'e' b'r' b',' b' ' b'h' b'e' b'a' b'r' b' ' b'm' b'e' b' ' b's' b'p'\n",
            " b'e' b'a' b'k' b'.' b'\\n' b'\\n' b'A' b'l' b'l' b':' b'\\n' b'S' b'p' b'e'\n",
            " b'a' b'k' b',' b' ' b's' b'p' b'e' b'a' b'k' b'.' b'\\n' b'\\n' b'F' b'i'\n",
            " b'r' b's' b't' b' ' b'C' b'i' b't' b'i' b'z' b'e' b'n' b':' b'\\n' b'Y'\n",
            " b'o' b'u' b' '], shape=(101,), dtype=string)\n"
          ]
        }
      ]
    },
    {
      "cell_type": "code",
      "source": [
        "for seq in sequences.take(5):\n",
        "  print(text_from_ids(seq).numpy())"
      ],
      "metadata": {
        "colab": {
          "base_uri": "https://localhost:8080/"
        },
        "id": "qBDVKbHEQF4u",
        "outputId": "5915ddbb-7998-4a86-b3e4-80883fa53572"
      },
      "execution_count": null,
      "outputs": [
        {
          "output_type": "stream",
          "name": "stdout",
          "text": [
            "b'First Citizen:\\nBefore we proceed any further, hear me speak.\\n\\nAll:\\nSpeak, speak.\\n\\nFirst Citizen:\\nYou '\n",
            "b'are all resolved rather to die than to famish?\\n\\nAll:\\nResolved. resolved.\\n\\nFirst Citizen:\\nFirst, you k'\n",
            "b\"now Caius Marcius is chief enemy to the people.\\n\\nAll:\\nWe know't, we know't.\\n\\nFirst Citizen:\\nLet us ki\"\n",
            "b\"ll him, and we'll have corn at our own price.\\nIs't a verdict?\\n\\nAll:\\nNo more talking on't; let it be d\"\n",
            "b'one: away, away!\\n\\nSecond Citizen:\\nOne word, good citizens.\\n\\nFirst Citizen:\\nWe are accounted poor citi'\n"
          ]
        }
      ]
    },
    {
      "cell_type": "code",
      "source": [
        "def split_input_target(sequence):\n",
        "    input_text = sequence[:-1]\n",
        "    target_text = sequence[1:]\n",
        "    return input_text, target_text"
      ],
      "metadata": {
        "id": "02-zU-smQHSt"
      },
      "execution_count": null,
      "outputs": []
    },
    {
      "cell_type": "code",
      "source": [
        "split_input_target(list(\"Tensorflow\"))"
      ],
      "metadata": {
        "colab": {
          "base_uri": "https://localhost:8080/"
        },
        "id": "oI_9UcbHQIp8",
        "outputId": "7eea7051-35ab-435a-f716-d69c34a4717c"
      },
      "execution_count": null,
      "outputs": [
        {
          "output_type": "execute_result",
          "data": {
            "text/plain": [
              "(['T', 'e', 'n', 's', 'o', 'r', 'f', 'l', 'o'],\n",
              " ['e', 'n', 's', 'o', 'r', 'f', 'l', 'o', 'w'])"
            ]
          },
          "metadata": {},
          "execution_count": 29
        }
      ]
    },
    {
      "cell_type": "code",
      "source": [
        "dataset = sequences.map(split_input_target)"
      ],
      "metadata": {
        "id": "_omRd0eSQKvt"
      },
      "execution_count": null,
      "outputs": []
    },
    {
      "cell_type": "code",
      "source": [
        "for input_example, target_example in dataset.take(1):\n",
        "    print(\"Input :\", text_from_ids(input_example).numpy())\n",
        "    print(\"Target:\", text_from_ids(target_example).numpy())"
      ],
      "metadata": {
        "colab": {
          "base_uri": "https://localhost:8080/"
        },
        "id": "U1y6sMlcQMEz",
        "outputId": "24b5d2f1-7784-4c63-861b-6fda1986d2d7"
      },
      "execution_count": null,
      "outputs": [
        {
          "output_type": "stream",
          "name": "stdout",
          "text": [
            "Input : b'First Citizen:\\nBefore we proceed any further, hear me speak.\\n\\nAll:\\nSpeak, speak.\\n\\nFirst Citizen:\\nYou'\n",
            "Target: b'irst Citizen:\\nBefore we proceed any further, hear me speak.\\n\\nAll:\\nSpeak, speak.\\n\\nFirst Citizen:\\nYou '\n"
          ]
        }
      ]
    },
    {
      "cell_type": "code",
      "source": [
        "# Batch size\n",
        "BATCH_SIZE = 64\n",
        "\n",
        "# Buffer size to shuffle the dataset\n",
        "# (TF data is designed to work with possibly infinite sequences,\n",
        "# so it doesn't attempt to shuffle the entire sequence in memory. Instead,\n",
        "# it maintains a buffer in which it shuffles elements).\n",
        "BUFFER_SIZE = 10000\n",
        "\n",
        "dataset = (\n",
        "    dataset\n",
        "    .shuffle(BUFFER_SIZE)\n",
        "    .batch(BATCH_SIZE, drop_remainder=True)\n",
        "    .prefetch(tf.data.experimental.AUTOTUNE))\n",
        "\n",
        "dataset"
      ],
      "metadata": {
        "colab": {
          "base_uri": "https://localhost:8080/"
        },
        "id": "oedd3DgyQNoh",
        "outputId": "2931a997-96e7-4a26-c4e1-55fffec9f924"
      },
      "execution_count": null,
      "outputs": [
        {
          "output_type": "execute_result",
          "data": {
            "text/plain": [
              "<_PrefetchDataset element_spec=(TensorSpec(shape=(64, 100), dtype=tf.int64, name=None), TensorSpec(shape=(64, 100), dtype=tf.int64, name=None))>"
            ]
          },
          "metadata": {},
          "execution_count": 32
        }
      ]
    },
    {
      "cell_type": "code",
      "source": [
        "# Length of the vocabulary in StringLookup Layer\n",
        "vocab_size = len(ids_from_chars.get_vocabulary())\n",
        "\n",
        "# The embedding dimension\n",
        "embedding_dim = 256\n",
        "\n",
        "# Number of RNN units\n",
        "rnn_units = 1024"
      ],
      "metadata": {
        "id": "_7ggQJhrQP18"
      },
      "execution_count": null,
      "outputs": []
    },
    {
      "cell_type": "code",
      "source": [
        "class MyModel(tf.keras.Model):\n",
        "  def __init__(self, vocab_size, embedding_dim, rnn_units):\n",
        "    super().__init__(self)\n",
        "    self.embedding = tf.keras.layers.Embedding(vocab_size, embedding_dim)\n",
        "    self.gru = tf.keras.layers.GRU(rnn_units,\n",
        "                                   return_sequences=True,\n",
        "                                   return_state=True)\n",
        "    self.dense = tf.keras.layers.Dense(vocab_size)\n",
        "\n",
        "  def call(self, inputs, states=None, return_state=False, training=False):\n",
        "    x = inputs\n",
        "    x = self.embedding(x, training=training)\n",
        "    if states is None:\n",
        "      states = self.gru.get_initial_state(x)\n",
        "    x, states = self.gru(x, initial_state=states, training=training)\n",
        "    x = self.dense(x, training=training)\n",
        "\n",
        "    if return_state:\n",
        "      return x, states\n",
        "    else:\n",
        "      return x"
      ],
      "metadata": {
        "id": "DYCnbEMuQRay"
      },
      "execution_count": null,
      "outputs": []
    },
    {
      "cell_type": "code",
      "source": [
        "model = MyModel(\n",
        "    vocab_size=vocab_size,\n",
        "    embedding_dim=embedding_dim,\n",
        "    rnn_units=rnn_units)"
      ],
      "metadata": {
        "id": "jHkKIh6NQTIN"
      },
      "execution_count": null,
      "outputs": []
    },
    {
      "cell_type": "code",
      "source": [
        "for input_example_batch, target_example_batch in dataset.take(1):\n",
        "    example_batch_predictions = model(input_example_batch)\n",
        "    print(example_batch_predictions.shape, \"# (batch_size, sequence_length, vocab_size)\")"
      ],
      "metadata": {
        "colab": {
          "base_uri": "https://localhost:8080/"
        },
        "id": "4M6U49LwQU2b",
        "outputId": "24ab3da7-6996-4fb2-9009-e33201339814"
      },
      "execution_count": null,
      "outputs": [
        {
          "output_type": "stream",
          "name": "stdout",
          "text": [
            "(64, 100, 66) # (batch_size, sequence_length, vocab_size)\n"
          ]
        }
      ]
    },
    {
      "cell_type": "code",
      "source": [
        "model.summary()"
      ],
      "metadata": {
        "colab": {
          "base_uri": "https://localhost:8080/"
        },
        "id": "fd8Ak9SIQXUh",
        "outputId": "4c9029d5-2da3-4efc-aa4a-9535492e48d6"
      },
      "execution_count": null,
      "outputs": [
        {
          "output_type": "stream",
          "name": "stdout",
          "text": [
            "Model: \"my_model\"\n",
            "_________________________________________________________________\n",
            " Layer (type)                Output Shape              Param #   \n",
            "=================================================================\n",
            " embedding (Embedding)       multiple                  16896     \n",
            "                                                                 \n",
            " gru (GRU)                   multiple                  3938304   \n",
            "                                                                 \n",
            " dense (Dense)               multiple                  67650     \n",
            "                                                                 \n",
            "=================================================================\n",
            "Total params: 4022850 (15.35 MB)\n",
            "Trainable params: 4022850 (15.35 MB)\n",
            "Non-trainable params: 0 (0.00 Byte)\n",
            "_________________________________________________________________\n"
          ]
        }
      ]
    },
    {
      "cell_type": "code",
      "source": [
        "sampled_indices = tf.random.categorical(example_batch_predictions[0], num_samples=1)\n",
        "sampled_indices = tf.squeeze(sampled_indices, axis=-1).numpy()"
      ],
      "metadata": {
        "id": "DNXWVnxGQZJ3"
      },
      "execution_count": null,
      "outputs": []
    },
    {
      "cell_type": "code",
      "source": [
        "sampled_indices"
      ],
      "metadata": {
        "colab": {
          "base_uri": "https://localhost:8080/"
        },
        "id": "56-VeUgZQazj",
        "outputId": "95970715-31c4-4a2f-90ed-330324f84291"
      },
      "execution_count": null,
      "outputs": [
        {
          "output_type": "execute_result",
          "data": {
            "text/plain": [
              "array([ 9, 18, 28, 62, 56, 43, 63,  5, 63, 38, 14,  8, 38, 22, 54, 63, 22,\n",
              "       52, 26, 27, 58, 21, 31, 22, 62,  4, 35, 57, 13,  9, 64, 29, 46, 33,\n",
              "       27, 39, 51, 12, 11, 39, 14, 54, 48, 52, 45,  0, 32, 13, 58, 61, 35,\n",
              "       14, 48, 51,  0, 29, 15,  3, 50, 35,  7, 61, 48, 45, 39, 24, 18, 26,\n",
              "       36, 60, 64, 65, 28, 36, 46, 47, 28, 61, 22,  5, 27, 59, 30, 11, 28,\n",
              "        1, 48,  9, 42, 15, 51, 36,  4, 30,  0, 55, 19, 33, 62, 14])"
            ]
          },
          "metadata": {},
          "execution_count": 39
        }
      ]
    },
    {
      "cell_type": "code",
      "source": [
        "print(\"Input:\\n\", text_from_ids(input_example_batch[0]).numpy())\n",
        "print()\n",
        "print(\"Next Char Predictions:\\n\", text_from_ids(sampled_indices).numpy())"
      ],
      "metadata": {
        "colab": {
          "base_uri": "https://localhost:8080/"
        },
        "id": "hwVr_jJAQcan",
        "outputId": "a8ea52dc-e510-4150-e614-641567b1ba57"
      },
      "execution_count": null,
      "outputs": [
        {
          "output_type": "stream",
          "name": "stdout",
          "text": [
            "Input:\n",
            " b'ly exercise.\\n\\nBUCKINGHAM:\\nReturn, good Catesby, to thy lord again;\\nTell him, myself, the mayor and c'\n",
            "\n",
            "Next Char Predictions:\n",
            " b'.EOwqdx&xYA-YIoxImMNsHRIw$Vr?.yPgTNZl;:ZAoimf[UNK]S?svVAil[UNK]PB!kV,vifZKEMWuyzOWghOvI&NtQ:O\\ni.cBlW$Q[UNK]pFTwA'\n"
          ]
        }
      ]
    },
    {
      "cell_type": "code",
      "source": [
        "loss = tf.losses.SparseCategoricalCrossentropy(from_logits=True)"
      ],
      "metadata": {
        "id": "Y7gMbaH-QefT"
      },
      "execution_count": null,
      "outputs": []
    },
    {
      "cell_type": "code",
      "source": [
        "example_batch_mean_loss = loss(target_example_batch, example_batch_predictions)\n",
        "print(\"Prediction shape: \", example_batch_predictions.shape, \" # (batch_size, sequence_length, vocab_size)\")\n",
        "print(\"Mean loss:        \", example_batch_mean_loss)"
      ],
      "metadata": {
        "colab": {
          "base_uri": "https://localhost:8080/"
        },
        "id": "5ry8kUHjQf9R",
        "outputId": "8b1bde4f-7427-4efd-fc71-06cd8f4f338b"
      },
      "execution_count": null,
      "outputs": [
        {
          "output_type": "stream",
          "name": "stdout",
          "text": [
            "Prediction shape:  (64, 100, 66)  # (batch_size, sequence_length, vocab_size)\n",
            "Mean loss:         tf.Tensor(4.189493, shape=(), dtype=float32)\n"
          ]
        }
      ]
    },
    {
      "cell_type": "code",
      "source": [
        "tf.exp(example_batch_mean_loss).numpy()"
      ],
      "metadata": {
        "colab": {
          "base_uri": "https://localhost:8080/"
        },
        "id": "xkz_NYFGQho3",
        "outputId": "bc5294e2-5ee7-431d-ab2d-40906cb1edff"
      },
      "execution_count": null,
      "outputs": [
        {
          "output_type": "execute_result",
          "data": {
            "text/plain": [
              "65.989334"
            ]
          },
          "metadata": {},
          "execution_count": 43
        }
      ]
    },
    {
      "cell_type": "code",
      "source": [
        "model.compile(optimizer='adam', loss=loss)"
      ],
      "metadata": {
        "id": "Q0iAr53cQjaZ"
      },
      "execution_count": null,
      "outputs": []
    },
    {
      "cell_type": "code",
      "source": [
        "# Directory where the checkpoints will be saved\n",
        "checkpoint_dir = './training_checkpoints'\n",
        "# Name of the checkpoint files\n",
        "checkpoint_prefix = os.path.join(checkpoint_dir, \"ckpt_{epoch}\")\n",
        "\n",
        "checkpoint_callback = tf.keras.callbacks.ModelCheckpoint(\n",
        "    filepath=checkpoint_prefix,\n",
        "    save_weights_only=True)"
      ],
      "metadata": {
        "id": "QCPkqoSpQlJR"
      },
      "execution_count": null,
      "outputs": []
    },
    {
      "cell_type": "code",
      "source": [
        "EPOCHS = 20"
      ],
      "metadata": {
        "id": "NwLnJsCaQm77"
      },
      "execution_count": null,
      "outputs": []
    },
    {
      "cell_type": "code",
      "source": [
        "history = model.fit(dataset, epochs=EPOCHS, callbacks=[checkpoint_callback])"
      ],
      "metadata": {
        "colab": {
          "base_uri": "https://localhost:8080/"
        },
        "id": "zPbPT_daQoe-",
        "outputId": "88d57b73-5d26-4dc6-baec-fa17535d7e83"
      },
      "execution_count": null,
      "outputs": [
        {
          "output_type": "stream",
          "name": "stdout",
          "text": [
            "Epoch 1/20\n",
            "172/172 [==============================] - 819s 5s/step - loss: 2.7131\n",
            "Epoch 2/20\n",
            "172/172 [==============================] - 818s 5s/step - loss: 1.9830\n",
            "Epoch 3/20\n",
            "172/172 [==============================] - 822s 5s/step - loss: 1.7060\n",
            "Epoch 4/20\n",
            "172/172 [==============================] - 822s 5s/step - loss: 1.5460\n",
            "Epoch 5/20\n",
            "172/172 [==============================] - 817s 5s/step - loss: 1.4481\n",
            "Epoch 6/20\n",
            "172/172 [==============================] - 818s 5s/step - loss: 1.3805\n",
            "Epoch 7/20\n",
            "172/172 [==============================] - 819s 5s/step - loss: 1.3287\n",
            "Epoch 8/20\n",
            "172/172 [==============================] - 823s 5s/step - loss: 1.2831\n",
            "Epoch 9/20\n",
            "172/172 [==============================] - 825s 5s/step - loss: 1.2428\n",
            "Epoch 10/20\n",
            "172/172 [==============================] - 847s 5s/step - loss: 1.2031\n",
            "Epoch 11/20\n",
            "172/172 [==============================] - 818s 5s/step - loss: 1.1635\n",
            "Epoch 12/20\n",
            "172/172 [==============================] - 831s 5s/step - loss: 1.1220\n",
            "Epoch 13/20\n",
            "172/172 [==============================] - 824s 5s/step - loss: 1.0798\n",
            "Epoch 14/20\n",
            "172/172 [==============================] - 819s 5s/step - loss: 1.0339\n",
            "Epoch 15/20\n",
            "172/172 [==============================] - 819s 5s/step - loss: 0.9859\n",
            "Epoch 16/20\n",
            "172/172 [==============================] - 823s 5s/step - loss: 0.9355\n",
            "Epoch 17/20\n",
            "172/172 [==============================] - 821s 5s/step - loss: 0.8827\n",
            "Epoch 18/20\n",
            "172/172 [==============================] - 821s 5s/step - loss: 0.8313\n",
            "Epoch 19/20\n",
            "172/172 [==============================] - 821s 5s/step - loss: 0.7785\n",
            "Epoch 20/20\n",
            "172/172 [==============================] - 822s 5s/step - loss: 0.7309\n"
          ]
        }
      ]
    },
    {
      "cell_type": "code",
      "source": [
        "class OneStep(tf.keras.Model):\n",
        "  def __init__(self, model, chars_from_ids, ids_from_chars, temperature=1.0):\n",
        "    super().__init__()\n",
        "    self.temperature = temperature\n",
        "    self.model = model\n",
        "    self.chars_from_ids = chars_from_ids\n",
        "    self.ids_from_chars = ids_from_chars\n",
        "\n",
        "    # Create a mask to prevent \"[UNK]\" from being generated.\n",
        "    skip_ids = self.ids_from_chars(['[UNK]'])[:, None]\n",
        "    sparse_mask = tf.SparseTensor(\n",
        "        # Put a -inf at each bad index.\n",
        "        values=[-float('inf')]*len(skip_ids),\n",
        "        indices=skip_ids,\n",
        "        # Match the shape to the vocabulary\n",
        "        dense_shape=[len(ids_from_chars.get_vocabulary())])\n",
        "    self.prediction_mask = tf.sparse.to_dense(sparse_mask)\n",
        "\n",
        "  @tf.function\n",
        "  def generate_one_step(self, inputs, states=None):\n",
        "    # Convert strings to token IDs.\n",
        "    input_chars = tf.strings.unicode_split(inputs, 'UTF-8')\n",
        "    input_ids = self.ids_from_chars(input_chars).to_tensor()\n",
        "\n",
        "    # Run the model.\n",
        "    # predicted_logits.shape is [batch, char, next_char_logits]\n",
        "    predicted_logits, states = self.model(inputs=input_ids, states=states,\n",
        "                                          return_state=True)\n",
        "    # Only use the last prediction.\n",
        "    predicted_logits = predicted_logits[:, -1, :]\n",
        "    predicted_logits = predicted_logits/self.temperature\n",
        "    # Apply the prediction mask: prevent \"[UNK]\" from being generated.\n",
        "    predicted_logits = predicted_logits + self.prediction_mask\n",
        "\n",
        "    # Sample the output logits to generate token IDs.\n",
        "    predicted_ids = tf.random.categorical(predicted_logits, num_samples=1)\n",
        "    predicted_ids = tf.squeeze(predicted_ids, axis=-1)\n",
        "\n",
        "    # Convert from token ids to characters\n",
        "    predicted_chars = self.chars_from_ids(predicted_ids)\n",
        "\n",
        "    # Return the characters and model state.\n",
        "    return predicted_chars, states"
      ],
      "metadata": {
        "id": "c1A6RsmMgCvf"
      },
      "execution_count": null,
      "outputs": []
    },
    {
      "cell_type": "code",
      "source": [
        "one_step_model = OneStep(model, chars_from_ids, ids_from_chars)"
      ],
      "metadata": {
        "id": "pbFveJ5KgFup"
      },
      "execution_count": null,
      "outputs": []
    },
    {
      "cell_type": "code",
      "source": [
        "start = time.time()\n",
        "states = None\n",
        "next_char = tf.constant(['ROMEO:'])\n",
        "result = [next_char]\n",
        "\n",
        "for n in range(1000):\n",
        "  next_char, states = one_step_model.generate_one_step(next_char, states=states)\n",
        "  result.append(next_char)\n",
        "\n",
        "result = tf.strings.join(result)\n",
        "end = time.time()\n",
        "print(result[0].numpy().decode('utf-8'), '\\n\\n' + '_'*80)\n",
        "print('\\nRun time:', end - start)"
      ],
      "metadata": {
        "colab": {
          "base_uri": "https://localhost:8080/"
        },
        "id": "A0bcPgSbgHgV",
        "outputId": "809b84ec-3940-47c4-ad09-c8f8a3536907"
      },
      "execution_count": null,
      "outputs": [
        {
          "output_type": "stream",
          "name": "stdout",
          "text": [
            "ROMEO:\n",
            "What, is the wretched queen?\n",
            "\n",
            "Gardener:\n",
            "Most danterous,\n",
            "Not how to live, and Mantagenet\n",
            "Ere flows of slity: she was your form.\n",
            "\n",
            "FRIAR LAURENCE:\n",
            "Holy father.\n",
            "\n",
            "FRIAR LAURENCE:\n",
            "Oh your device!\n",
            "Your general a mighty holp to read my master after\n",
            "To make her secret me and be made.\n",
            "\n",
            "BRUTUS:\n",
            "Catist me, servick we so people in man or no occreasies,\n",
            "That often stands in your former springing Warwick,\n",
            "Left me kill my name is Pagian slain:\n",
            "And, speaks he's peare, my lord, a terlor hath other'd home,\n",
            "Than apprehends his power to seek a charging.\n",
            "Sirrah, in himself doth call, so I did emprossed:\n",
            "or, whither my fair, and fight against\n",
            "The king that moves. Heaven Signior Lucentio?\n",
            "\n",
            "TYBALT:\n",
            "What, art thou account' can make you of signior Vale;\n",
            "But now spare means, I'll part not what's to cran.\n",
            "Ah, to have no heart a marble tope\n",
            "Thin peace into my king, and make you answer\n",
            "Lest his subjects by worse than we are granted thereof.\n",
            "Destruction to men live, poor back, again;\n",
            "And yet not by attended with one \n",
            "\n",
            "________________________________________________________________________________\n",
            "\n",
            "Run time: 2.9431216716766357\n"
          ]
        }
      ]
    },
    {
      "cell_type": "code",
      "source": [
        "start = time.time()\n",
        "states = None\n",
        "next_char = tf.constant(['ROMEO:', 'ROMEO:', 'ROMEO:', 'ROMEO:', 'ROMEO:'])\n",
        "result = [next_char]\n",
        "\n",
        "for n in range(1000):\n",
        "  next_char, states = one_step_model.generate_one_step(next_char, states=states)\n",
        "  result.append(next_char)\n",
        "\n",
        "result = tf.strings.join(result)\n",
        "end = time.time()\n",
        "print(result, '\\n\\n' + '_'*80)\n",
        "print('\\nRun time:', end - start)"
      ],
      "metadata": {
        "colab": {
          "base_uri": "https://localhost:8080/"
        },
        "id": "hpjYZ62ogMWV",
        "outputId": "831a6e52-acb5-406a-afc6-12e3b08fc24c"
      },
      "execution_count": null,
      "outputs": [
        {
          "output_type": "stream",
          "name": "stdout",
          "text": [
            "tf.Tensor(\n",
            "[b\"ROMEO:\\nHow now, chossing\\nTo me above the prieces had rather deeds more precious trial:\\nWhite proves she would set on the blone a traitor a high,\\nWho with Johe is my words: both drop of right,\\nNow piercies and tedious nights to him.\\nNow, sir, you first did mine honest world.\\nThis, what; I think, or capais, we did\\nI care not: go with ma; but how he loy's hands to lay\\nOn pain would temperance as igning:\\nWords, mine pohitist charged again: or who rother deed,\\nEmen else a corflate stand full line of none,\\nTogether with our ruin on the eye's rebel?\\nA man on thinking of ungentled elsewhere.\\n\\nKING RICHARD II:\\nFor that I was thine and that wo under\\nHis'r hered makes me raze at, thanks and starved honour'd,\\nSo wife, as if the waves as we bight.\\nI have a king escaped a word: a harewakes\\nAt Pomfret's same moon, od learn.\\n\\nDONCAS:\\nI the breath in our as eyes\\nOn Mariner, was him report for bears,\\nAnd fill'd his gracious denivery harmering most\\nHate on her; methinks, so is mine,\\nWith many heads butter ther\"\n",
            " b\"ROMEO:\\nTo make an ean or ere I cloy me\\nwith promise and ten times made purpose.\\n\\nMARIANA:\\nNever! this ground\\nHave I discover'd of this alley; and I know\\none other as e'er shall not.\\nHad he dish'd undrewed lawful king;\\nThat you shall keep from one of us kind of speaking!\\nTake you to Marcius pather.\\nUp:\\nI have were you; and first we cannot to; they give\\nno over-man--shall be so still remived and enfranchised,\\nUpon for something Edward's sight, Pompey. approaches,\\nHoll many people, O, my lord--\\n\\nKING RICHARD II:\\nWe make forfeits than seem'st sort: keep such contegrip\\nAnd cannot be deliver'd reauty that thrive waves a change;\\nAnd the majocking part of Transfallen out\\nThe beasts are gone and married him to repett.\\n\\nBUCKINGHAM:\\nMy lords, I thank your worship mean to all that shroud\\nOf all majesty his crield.\\n\\nThird Citizen:\\nBut this from many off. Desire it idle?\\n'Siguiside, as you intend our rages?\\n\\nBRUTUS:\\nI'll use that peril, I die a man.\\n\\nBAPTISTA:\\nAway with him! do you not?\\nHer father's paten\"\n",
            " b\"ROMEO:\\nO that be done, my child's points to him.\\n\\nISABELLA:\\nI'll in the devil' children' like a cup of life,--sky profits no other,\\nHis--appearance, in the bottom of a fire\\nOf thy passion; embly sweet burthen's.\\n\\nTRANIO:\\n'Tis doubt no more than with my lord.\\n\\nANGELO:\\nDeliver, he stopping soul doth lineament:\\nLet them away.\\n\\nANTONIO:\\nThe children of merry words that be card\\nis grieves me. O, you talk'd of all!\\nI wollow you.\\n\\nMOPSA:\\nNot mad in charge.\\n\\nISABELLA:\\nA man the doublets throne\\nOf that integribend most of a wantage. Sir preposterous,\\nThat they throw up their complesing words.\\n\\nEXTON:\\nDidst thank you here. So shall you please my loyalty.\\n\\nPLULIET:\\nMethoughts, that e'er I know, why there's not his temple?\\n\\nCLAUDIO:\\nThanks, Jove no more: I'll tell you what: my lessing souls,\\nYour tidling struck his last likelies. There's some of you should end:\\nif how you laugh a world of mine honour.\\n\\nSICINIUS:\\nWell, here you charge your honour stays.\\nPrevent it, that in my teath as much\\nthe corse; onl\"\n",
            " b\"ROMEO:\\nThe moon it was, ungravely, he cannot chope.\\n\\nWARWICK:\\nOpproach since you tread one that was thy\\nheart-pleasure, now suffer'd by his wife's death as\\nWell reason, what name we at thie wrenct\\nSearing the corpiese of revenge his sons;\\nYou understand me like a faving?\\n\\nALONSO:\\nYou are amazed; I would, finding but a present--\\nWhere his brother doth my sovereign liege;\\nAnd let your mess of spirit shows be seen.\\nI have a brother is my honour: you are yours\\noft: were he mills, the people axe in her:\\nFor why resolution me too shift;\\nNot like misthes, one goes that which makest thou, sir;\\nHell, my great covert: yet highing goubtless valour.\\n\\nFRIAR LAURENCE:\\nWorse that in this business are a sight, is grief.\\nOf and that was the world grat was this hat\\nAnd say 'she's welcome. You are at lung\\nbying, fight-wis prayers portal in!\\n\\nAUFIDIUS:\\nAgainst the which my blood.\\n\\nNurse:\\nWhat's Montague is gone, my swarination\\nIs next their father's love and majesty\\nTo her one--work's passes; for they are integ\"\n",
            " b\"ROMEO:\\nThat we may live in jadument of thine at this.\\nYour knees shall king in nothing. Then, both grow\\nHoming here is 's a poor friend out; good my lords,\\nAnd yet not here will I be gentle-held\\nThe white on't that I was worth the bitteen life;\\nIf that what straight for are the next have\\nTo save your majesty again.\\n\\nBRUTUS:\\nGo, raty make his bear: be many gaged executed in me\\nAnd be with me in charge; fight against the sea\\nWhat's not endused in our prayers for thee.\\n\\nARIEL:\\nThings proud; and, she look upon his ladys'\\nOf King of England and the lustful bed, contempt\\nShe is not what met him my fortune.\\nYour odd part of nine-monation?\\n\\nPOLIXENES:\\nWe do not.\\n\\nCORIOLANUS:\\nI do not, good Camillo. Who into his happier'd Citizens\\nAre put thee in thy most obedient to us,\\nEre I will make them my good nothing showers,\\nOurs, when our brave breeding still begused\\nThe pot of carefully be; those whom we allicious innocence\\nHath he been restrained amain to-night.\\n\\nFirst Citio;\\nSo to enemies the porteat that\"], shape=(5,), dtype=string) \n",
            "\n",
            "________________________________________________________________________________\n",
            "\n",
            "Run time: 3.8364830017089844\n"
          ]
        }
      ]
    },
    {
      "cell_type": "code",
      "source": [
        "tf.saved_model.save(one_step_model, 'one_step')\n",
        "one_step_reloaded = tf.saved_model.load('one_step')"
      ],
      "metadata": {
        "colab": {
          "base_uri": "https://localhost:8080/"
        },
        "id": "PK4iYCCngRpV",
        "outputId": "1bafaff4-c54a-4163-fee0-f3094c97402c"
      },
      "execution_count": null,
      "outputs": [
        {
          "output_type": "stream",
          "name": "stderr",
          "text": [
            "WARNING:tensorflow:Skipping full serialization of Keras layer <__main__.OneStep object at 0x7bce687653f0>, because it is not built.\n",
            "WARNING:tensorflow:Model's `__init__()` arguments contain non-serializable objects. Please implement a `get_config()` method in the subclassed Model for proper saving and loading. Defaulting to empty config.\n",
            "WARNING:tensorflow:Model's `__init__()` arguments contain non-serializable objects. Please implement a `get_config()` method in the subclassed Model for proper saving and loading. Defaulting to empty config.\n"
          ]
        }
      ]
    },
    {
      "cell_type": "code",
      "source": [
        "states = None\n",
        "next_char = tf.constant(['ROMEO:'])\n",
        "result = [next_char]\n",
        "\n",
        "for n in range(100):\n",
        "  next_char, states = one_step_reloaded.generate_one_step(next_char, states=states)\n",
        "  result.append(next_char)\n",
        "\n",
        "print(tf.strings.join(result)[0].numpy().decode(\"utf-8\"))"
      ],
      "metadata": {
        "colab": {
          "base_uri": "https://localhost:8080/"
        },
        "id": "65rA1_2igTIy",
        "outputId": "efff511f-68b8-43a5-8e3e-5f8597baa504"
      },
      "execution_count": null,
      "outputs": [
        {
          "output_type": "stream",
          "name": "stdout",
          "text": [
            "ROMEO:\n",
            "You are too bott, bosh old ob the contrary.\n",
            "\n",
            "QUEEN MARGARET:\n",
            "Richard! go, prayer in revengeful assw\n"
          ]
        }
      ]
    }
  ]
}