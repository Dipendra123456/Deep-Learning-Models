{
  "nbformat": 4,
  "nbformat_minor": 0,
  "metadata": {
    "colab": {
      "provenance": [],
      "authorship_tag": "ABX9TyMrAtzpNAsWjqgnRrdjyt3K",
      "include_colab_link": true
    },
    "kernelspec": {
      "name": "python3",
      "display_name": "Python 3"
    },
    "language_info": {
      "name": "python"
    }
  },
  "cells": [
    {
      "cell_type": "markdown",
      "metadata": {
        "id": "view-in-github",
        "colab_type": "text"
      },
      "source": [
        "<a href=\"https://colab.research.google.com/github/Anishya181/Deep_Learning_Models/blob/main/DigitRecognition.ipynb\" target=\"_parent\"><img src=\"https://colab.research.google.com/assets/colab-badge.svg\" alt=\"Open In Colab\"/></a>"
      ]
    },
    {
      "cell_type": "code",
      "execution_count": null,
      "metadata": {
        "colab": {
          "base_uri": "https://localhost:8080/"
        },
        "id": "pSmix9Fwi69g",
        "outputId": "0e50339c-3a61-4221-c104-981a7033f2ef"
      },
      "outputs": [
        {
          "output_type": "stream",
          "name": "stdout",
          "text": [
            "TensorFlow version: 2.15.0\n"
          ]
        }
      ],
      "source": [
        "import tensorflow as tf\n",
        "print(\"TensorFlow version:\", tf.__version__)"
      ]
    },
    {
      "cell_type": "code",
      "source": [
        "mnist = tf.keras.datasets.mnist\n",
        "\n",
        "(x_train, y_train), (x_test, y_test) = mnist.load_data()\n",
        "x_train, x_test = x_train / 255.0, x_test / 255.0"
      ],
      "metadata": {
        "id": "6dYGkbt2jDy8"
      },
      "execution_count": null,
      "outputs": []
    },
    {
      "cell_type": "code",
      "source": [
        "model = tf.keras.models.Sequential([\n",
        "  tf.keras.layers.Flatten(input_shape=(28, 28)),\n",
        "\n",
        "  tf.keras.layers.Dense(128, activation='relu'),\n",
        "  tf.keras.layers.Dropout(0.2),\n",
        "\n",
        "  tf.keras.layers.Dense(10)\n",
        "])"
      ],
      "metadata": {
        "id": "147NNU7OjFWr"
      },
      "execution_count": null,
      "outputs": []
    },
    {
      "cell_type": "code",
      "source": [
        "predictions = model(x_train[:1]).numpy()\n",
        "predictions"
      ],
      "metadata": {
        "colab": {
          "base_uri": "https://localhost:8080/"
        },
        "id": "mHTY1Mq1kWU7",
        "outputId": "b6fec967-76cf-4379-dcca-622d5c31f883"
      },
      "execution_count": null,
      "outputs": [
        {
          "output_type": "execute_result",
          "data": {
            "text/plain": [
              "array([[ 0.4938918 , -0.06810912, -0.34807912,  0.3161745 ,  0.60237557,\n",
              "        -0.20680979,  0.00257099, -0.12455518,  0.90050006, -0.0404276 ]],\n",
              "      dtype=float32)"
            ]
          },
          "metadata": {},
          "execution_count": 4
        }
      ]
    },
    {
      "cell_type": "code",
      "source": [
        "tf.nn.softmax(predictions).numpy()"
      ],
      "metadata": {
        "colab": {
          "base_uri": "https://localhost:8080/"
        },
        "id": "bMA-GvoKkYpc",
        "outputId": "140fe602-8acc-4816-9e99-919586b22327"
      },
      "execution_count": null,
      "outputs": [
        {
          "output_type": "execute_result",
          "data": {
            "text/plain": [
              "array([[0.13008447, 0.0741569 , 0.05604826, 0.10890399, 0.14499043,\n",
              "        0.06455273, 0.07958799, 0.07008697, 0.19534989, 0.07623834]],\n",
              "      dtype=float32)"
            ]
          },
          "metadata": {},
          "execution_count": 5
        }
      ]
    },
    {
      "cell_type": "code",
      "source": [
        "loss_fn = tf.keras.losses.SparseCategoricalCrossentropy(from_logits=True)"
      ],
      "metadata": {
        "id": "2g6DH5pVkgD6"
      },
      "execution_count": null,
      "outputs": []
    },
    {
      "cell_type": "code",
      "source": [
        "loss_fn(y_train[:1], predictions).numpy()"
      ],
      "metadata": {
        "colab": {
          "base_uri": "https://localhost:8080/"
        },
        "id": "2umaWfyuki8j",
        "outputId": "d21a892e-aa49-4383-a37e-11fe6a6ef817"
      },
      "execution_count": null,
      "outputs": [
        {
          "output_type": "execute_result",
          "data": {
            "text/plain": [
              "2.740273"
            ]
          },
          "metadata": {},
          "execution_count": 7
        }
      ]
    },
    {
      "cell_type": "code",
      "source": [
        "model.compile(optimizer='adam',\n",
        "              loss=loss_fn,\n",
        "              metrics=['accuracy'])"
      ],
      "metadata": {
        "id": "tJeItPuyjPUW"
      },
      "execution_count": null,
      "outputs": []
    },
    {
      "cell_type": "code",
      "source": [
        "model.fit(x_train, y_train, epochs=10)"
      ],
      "metadata": {
        "colab": {
          "base_uri": "https://localhost:8080/"
        },
        "id": "BBK9JeTGjRGy",
        "outputId": "582d5df5-d3c6-4116-ac0d-26e891c166cd"
      },
      "execution_count": null,
      "outputs": [
        {
          "output_type": "stream",
          "name": "stdout",
          "text": [
            "Epoch 1/10\n",
            "1875/1875 [==============================] - 10s 5ms/step - loss: 0.2969 - accuracy: 0.9138\n",
            "Epoch 2/10\n",
            "1875/1875 [==============================] - 7s 4ms/step - loss: 0.1439 - accuracy: 0.9571\n",
            "Epoch 3/10\n",
            "1875/1875 [==============================] - 9s 5ms/step - loss: 0.1058 - accuracy: 0.9677\n",
            "Epoch 4/10\n",
            "1875/1875 [==============================] - 9s 5ms/step - loss: 0.0888 - accuracy: 0.9726\n",
            "Epoch 5/10\n",
            "1875/1875 [==============================] - 7s 4ms/step - loss: 0.0757 - accuracy: 0.9761\n",
            "Epoch 6/10\n",
            "1875/1875 [==============================] - 9s 5ms/step - loss: 0.0647 - accuracy: 0.9797\n",
            "Epoch 7/10\n",
            "1875/1875 [==============================] - 7s 4ms/step - loss: 0.0588 - accuracy: 0.9811\n",
            "Epoch 8/10\n",
            "1875/1875 [==============================] - 9s 5ms/step - loss: 0.0533 - accuracy: 0.9827\n",
            "Epoch 9/10\n",
            "1875/1875 [==============================] - 10s 5ms/step - loss: 0.0478 - accuracy: 0.9842\n",
            "Epoch 10/10\n",
            "1875/1875 [==============================] - 7s 4ms/step - loss: 0.0445 - accuracy: 0.9852\n"
          ]
        },
        {
          "output_type": "execute_result",
          "data": {
            "text/plain": [
              "<keras.src.callbacks.History at 0x7a8c5db1b6a0>"
            ]
          },
          "metadata": {},
          "execution_count": 9
        }
      ]
    },
    {
      "cell_type": "code",
      "source": [
        "model.evaluate(x_test,  y_test, verbose=2)"
      ],
      "metadata": {
        "id": "f6ptYQbMjU6Q",
        "colab": {
          "base_uri": "https://localhost:8080/"
        },
        "outputId": "ae8ef95e-8cca-4d4a-a17c-ae7b6c68fd4a"
      },
      "execution_count": null,
      "outputs": [
        {
          "output_type": "stream",
          "name": "stdout",
          "text": [
            "313/313 - 1s - loss: 0.0684 - accuracy: 0.9807 - 630ms/epoch - 2ms/step\n"
          ]
        },
        {
          "output_type": "execute_result",
          "data": {
            "text/plain": [
              "[0.06840072572231293, 0.9807000160217285]"
            ]
          },
          "metadata": {},
          "execution_count": 10
        }
      ]
    },
    {
      "cell_type": "code",
      "source": [
        "probability_model = tf.keras.Sequential([\n",
        "  model,\n",
        "  tf.keras.layers.Softmax()\n",
        "])"
      ],
      "metadata": {
        "id": "BfMB4Xk2jWRO"
      },
      "execution_count": null,
      "outputs": []
    },
    {
      "cell_type": "code",
      "source": [
        "probability_model(x_test[:5])"
      ],
      "metadata": {
        "id": "4XDRJGiTjXgW",
        "colab": {
          "base_uri": "https://localhost:8080/"
        },
        "outputId": "844bacfa-519f-48c4-b06c-56281c08593b"
      },
      "execution_count": null,
      "outputs": [
        {
          "output_type": "execute_result",
          "data": {
            "text/plain": [
              "<tf.Tensor: shape=(5, 10), dtype=float32, numpy=\n",
              "array([[2.96395027e-11, 1.43525625e-11, 3.34895489e-08, 3.16263640e-06,\n",
              "        2.68457647e-13, 7.60869856e-09, 7.87622917e-17, 9.99996066e-01,\n",
              "        3.87575794e-09, 7.45459147e-07],\n",
              "       [1.54626704e-07, 4.80805320e-04, 9.99518394e-01, 6.51937171e-07,\n",
              "        3.48328444e-18, 6.73429952e-08, 3.58767904e-10, 1.86235744e-17,\n",
              "        9.42969880e-09, 6.61658929e-20],\n",
              "       [3.39339437e-07, 9.99927521e-01, 1.76892154e-05, 8.05296054e-07,\n",
              "        3.29785107e-05, 3.99961948e-07, 2.13984708e-06, 9.37690402e-06,\n",
              "        8.71982957e-06, 4.29794582e-08],\n",
              "       [9.99984384e-01, 2.17002563e-13, 6.36307004e-06, 8.51134629e-09,\n",
              "        2.35317987e-08, 5.02675199e-08, 6.55203348e-06, 1.22704557e-06,\n",
              "        9.74056280e-10, 1.48147217e-06],\n",
              "       [2.98820879e-08, 3.72588835e-11, 6.75269973e-07, 4.14645491e-08,\n",
              "        9.99610364e-01, 8.36366098e-07, 3.08866106e-07, 1.98542821e-05,\n",
              "        5.46345369e-08, 3.67969536e-04]], dtype=float32)>"
            ]
          },
          "metadata": {},
          "execution_count": 12
        }
      ]
    },
    {
      "cell_type": "code",
      "source": [
        "print(y_test[:5])"
      ],
      "metadata": {
        "id": "yLoMJIc7BIAm",
        "colab": {
          "base_uri": "https://localhost:8080/"
        },
        "outputId": "42140b5b-4a61-4b5f-8b09-3f6ad5913565"
      },
      "execution_count": null,
      "outputs": [
        {
          "output_type": "stream",
          "name": "stdout",
          "text": [
            "[7 2 1 0 4]\n"
          ]
        }
      ]
    }
  ]
}